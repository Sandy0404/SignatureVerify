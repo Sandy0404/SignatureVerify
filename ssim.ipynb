{
 "cells": [
  {
   "cell_type": "code",
   "execution_count": 7,
   "metadata": {},
   "outputs": [],
   "source": [
    "import math"
   ]
  },
  {
   "cell_type": "code",
   "execution_count": 8,
   "metadata": {},
   "outputs": [],
   "source": [
    "import numpy as np"
   ]
  },
  {
   "cell_type": "code",
   "execution_count": 9,
   "metadata": {},
   "outputs": [],
   "source": [
    "from PIL import Image"
   ]
  },
  {
   "cell_type": "code",
   "execution_count": 10,
   "metadata": {},
   "outputs": [],
   "source": [
    "from scipy.signal import convolve2d"
   ]
  },
  {
   "cell_type": "code",
   "execution_count": 11,
   "metadata": {},
   "outputs": [],
   "source": [
    "def SSIM(target, ref, K1=0.01, K2=0.03, gaussian_kernel_sigma = 1.5, gaussian_kernel_width = 11, L=255):\n",
    "    gaussian_kernel = np.zeros((gaussian_kernel_width,gaussian_kernel_width))\n",
    "    for i in range(gaussian_kernel_width):\n",
    "        for j in range(gaussian_kernel_width):\n",
    "            gaussian_kernel[i,j] = (1 / (2 * math.pi * (gaussian_kernel_sigma ** 2))) * math.exp(-(((i-5) ** 2)+((j - 5) ** 2)) / (2 * (gaussian_kernel_sigma ** 2)))\n",
    " \n",
    "    target = np.array(target, dtype=np.float32)\n",
    "    ref = np.array(ref, dtype=np.float32)\n",
    "    if target.shape != ref.shape:\n",
    "        raise ValueError('输入圖像的大小應該一致！')\n",
    " \n",
    "    target_window = convolve2d(target, np.rot90(gaussian_kernel, 2), mode='valid')\n",
    "    ref_window = convolve2d(ref, np.rot90(gaussian_kernel, 2), mode='valid')\n",
    " \n",
    "    mu1_sq = target_window * target_window\n",
    "    mu2_sq = ref_window * ref_window\n",
    "    mu1_mu2 = target_window * ref_window\n",
    " \n",
    "    sigma1_sq = convolve2d(target * target, np.rot90(gaussian_kernel, 2), mode='valid') - mu1_sq\n",
    "    sigma2_sq = convolve2d(ref * ref, np.rot90(gaussian_kernel, 2), mode='valid') - mu2_sq\n",
    "    sigma12 = convolve2d(target * ref, np.rot90(gaussian_kernel, 2), mode='valid') - mu1_mu2\n",
    " \n",
    "    C1 = (K1*L)**2\n",
    "    C2 = (K2*L)**2\n",
    "    ssim_array = ((2 * mu1_mu2 + C1) * (2 * sigma12 + C2)) / ((mu1_sq + mu2_sq + C1) * (sigma1_sq + sigma2_sq + C2))\n",
    "    ssim = np.mean(np.mean(ssim_array))\n",
    " \n",
    "    return ssim"
   ]
  },
  {
   "cell_type": "code",
   "execution_count": 12,
   "metadata": {},
   "outputs": [
    {
     "name": "stdout",
     "output_type": "stream",
     "text": [
      "SSIM為:0.9999999996316156\n"
     ]
    }
   ],
   "source": [
    "if __name__ == '__main__':\n",
    "    target = Image.open('1.png').convert('L')\n",
    "    ref = Image.open('2.png').convert('L')\n",
    "    ssim = SSIM(target, ref)\n",
    "    print('SSIM為:{}'.format(ssim))"
   ]
  },
  {
   "cell_type": "code",
   "execution_count": null,
   "metadata": {},
   "outputs": [],
   "source": []
  },
  {
   "cell_type": "code",
   "execution_count": null,
   "metadata": {},
   "outputs": [],
   "source": []
  },
  {
   "cell_type": "code",
   "execution_count": null,
   "metadata": {},
   "outputs": [],
   "source": []
  },
  {
   "cell_type": "code",
   "execution_count": null,
   "metadata": {},
   "outputs": [],
   "source": []
  }
 ],
 "metadata": {
  "anaconda-cloud": {},
  "kernelspec": {
   "display_name": "Python 3",
   "language": "python",
   "name": "python3"
  },
  "language_info": {
   "codemirror_mode": {
    "name": "ipython",
    "version": 3
   },
   "file_extension": ".py",
   "mimetype": "text/x-python",
   "name": "python",
   "nbconvert_exporter": "python",
   "pygments_lexer": "ipython3",
   "version": "3.8.3"
  }
 },
 "nbformat": 4,
 "nbformat_minor": 1
}
